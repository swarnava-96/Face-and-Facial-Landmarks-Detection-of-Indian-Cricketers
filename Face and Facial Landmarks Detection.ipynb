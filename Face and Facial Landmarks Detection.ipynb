{
 "cells": [
  {
   "cell_type": "markdown",
   "id": "8c5c3352",
   "metadata": {},
   "source": [
    "# Face and Facial Landmarks Detection of Indian Cricketers \n",
    "In this mini project, I will use MTCNN to detect faces and facial landmarks of some of the famous Indian cricketers."
   ]
  },
  {
   "cell_type": "code",
   "execution_count": 2,
   "id": "135adca4",
   "metadata": {
    "scrolled": true
   },
   "outputs": [
    {
     "name": "stdout",
     "output_type": "stream",
     "text": [
      "WARNING:tensorflow:5 out of the last 9 calls to <function Model.make_predict_function.<locals>.predict_function at 0x000001B237A84AF8> triggered tf.function retracing. Tracing is expensive and the excessive number of tracings could be due to (1) creating @tf.function repeatedly in a loop, (2) passing tensors with different shapes, (3) passing Python objects instead of tensors. For (1), please define your @tf.function outside of the loop. For (2), @tf.function has experimental_relax_shapes=True option that relaxes argument shapes that can avoid unnecessary retracing. For (3), please refer to https://www.tensorflow.org/guide/function#controlling_retracing and https://www.tensorflow.org/api_docs/python/tf/function for  more details.\n",
      "[{'box': [52, 43, 74, 88], 'confidence': 0.9998794794082642, 'keypoints': {'left_eye': (75, 78), 'right_eye': (110, 78), 'nose': (94, 89), 'mouth_left': (77, 111), 'mouth_right': (108, 111)}}]\n"
     ]
    }
   ],
   "source": [
    "## Trail run\n",
    "\n",
    "# Lets import the MTCNN library\n",
    "from mtcnn import MTCNN\n",
    "\n",
    "# Lets import OpenCV\n",
    "import cv2\n",
    "\n",
    "# Lets initialize the MTCNN object\n",
    "detector = MTCNN()\n",
    "\n",
    "# Lets read an image using OpenCV\n",
    "img = cv2.imread(\"image_examples/virat.jpg\")\n",
    "\n",
    "# Lets detect face using MTCNN\n",
    "output = detector.detect_faces(img)\n",
    "\n",
    "# Lets see the output\n",
    "print(output)"
   ]
  },
  {
   "cell_type": "markdown",
   "id": "133ef760",
   "metadata": {},
   "source": [
    "### Face Detection"
   ]
  },
  {
   "cell_type": "code",
   "execution_count": 3,
   "id": "5b779e4f",
   "metadata": {},
   "outputs": [
    {
     "name": "stdout",
     "output_type": "stream",
     "text": [
      "WARNING:tensorflow:6 out of the last 10 calls to <function Model.make_predict_function.<locals>.predict_function at 0x000001B237B07678> triggered tf.function retracing. Tracing is expensive and the excessive number of tracings could be due to (1) creating @tf.function repeatedly in a loop, (2) passing tensors with different shapes, (3) passing Python objects instead of tensors. For (1), please define your @tf.function outside of the loop. For (2), @tf.function has experimental_relax_shapes=True option that relaxes argument shapes that can avoid unnecessary retracing. For (3), please refer to https://www.tensorflow.org/guide/function#controlling_retracing and https://www.tensorflow.org/api_docs/python/tf/function for  more details.\n",
      "[{'box': [52, 43, 74, 88], 'confidence': 0.9998794794082642, 'keypoints': {'left_eye': (75, 78), 'right_eye': (110, 78), 'nose': (94, 89), 'mouth_left': (77, 111), 'mouth_right': (108, 111)}}]\n"
     ]
    },
    {
     "data": {
      "text/plain": [
       "13"
      ]
     },
     "execution_count": 3,
     "metadata": {},
     "output_type": "execute_result"
    }
   ],
   "source": [
    "# Lets import the MTCNN library\n",
    "from mtcnn import MTCNN\n",
    "\n",
    "# Lets import OpenCV\n",
    "import cv2\n",
    "\n",
    "# Lets initialize the MTCNN object\n",
    "detector = MTCNN()\n",
    "\n",
    "# Lets read an image using OpenCV\n",
    "img = cv2.imread(\"image_examples/virat.jpg\")\n",
    "\n",
    "# Lets detect face using MTCNN\n",
    "output = detector.detect_faces(img)\n",
    "\n",
    "# Lets see the output\n",
    "print(output)\n",
    "\n",
    "# Lets extract the first element of the dictionary\n",
    "x,y,w,h = output[0][\"box\"]\n",
    "\n",
    "# Lets make a rectangle to detect the face\n",
    "cv2.rectangle(img, pt1 = (x,y), pt2 = (x+w,y+h), color = (0,0,255), thickness = 3)\n",
    "\n",
    "# Lets show the image\n",
    "cv2.imshow(\"window\", img)\n",
    "\n",
    "# Lets create the waitkey so that the image stays\n",
    "cv2.waitKey(0)"
   ]
  },
  {
   "cell_type": "markdown",
   "id": "6098ed4f",
   "metadata": {},
   "source": [
    "### Facial Landmarks Detection"
   ]
  },
  {
   "cell_type": "code",
   "execution_count": 5,
   "id": "9693bc43",
   "metadata": {},
   "outputs": [
    {
     "name": "stdout",
     "output_type": "stream",
     "text": [
      "[{'box': [52, 43, 74, 88], 'confidence': 0.9998794794082642, 'keypoints': {'left_eye': (75, 78), 'right_eye': (110, 78), 'nose': (94, 89), 'mouth_left': (77, 111), 'mouth_right': (108, 111)}}]\n"
     ]
    },
    {
     "data": {
      "text/plain": [
       "-1"
      ]
     },
     "execution_count": 5,
     "metadata": {},
     "output_type": "execute_result"
    }
   ],
   "source": [
    "# Lets import the MTCNN library\n",
    "from mtcnn import MTCNN\n",
    "\n",
    "# Lets import OpenCV\n",
    "import cv2\n",
    "\n",
    "# Lets initialize the MTCNN object\n",
    "detector = MTCNN()\n",
    "\n",
    "# Lets read an image using OpenCV\n",
    "img = cv2.imread(\"image_examples/virat.jpg\")\n",
    "\n",
    "# Lets detect face using MTCNN\n",
    "output = detector.detect_faces(img)\n",
    "\n",
    "# Lets see the output\n",
    "print(output)\n",
    "\n",
    "# Lets extract the first element of the dictionary\n",
    "x,y,w,h = output[0][\"box\"]\n",
    "\n",
    "# Lets detect the facial landmarks\n",
    "left_eyeX, left_eyeY = output[0][\"keypoints\"][\"left_eye\"]\n",
    "right_eyeX, right_eyeY = output[0][\"keypoints\"][\"right_eye\"]\n",
    "noseX, noseY = output[0][\"keypoints\"][\"nose\"]\n",
    "mouth_leftX, mouth_leftY = output[0][\"keypoints\"][\"mouth_left\"]\n",
    "mouth_rightX, mouth_rightY = output[0][\"keypoints\"][\"mouth_right\"]\n",
    "\n",
    "cv2.circle(img, center = (left_eyeX,left_eyeY), color = (0,255,0), thickness = 1, radius = 2)\n",
    "cv2.circle(img, center = (right_eyeX,right_eyeY), color = (0,255,0), thickness = 1, radius = 2)\n",
    "cv2.circle(img, center = (noseX,noseY), color = (0,255,0), thickness = 1, radius = 2)\n",
    "cv2.circle(img, center = (mouth_leftX,mouth_leftY), color = (0,255,0), thickness = 1, radius = 2)\n",
    "cv2.circle(img, center = (mouth_rightX,mouth_rightY), color = (0,255,0), thickness = 1, radius = 2)\n",
    "\n",
    "# Lets make a rectangle to detect the face\n",
    "cv2.rectangle(img, pt1 = (x,y), pt2 = (x+w,y+h), color = (0,0,255), thickness = 3)\n",
    "\n",
    "# Lets show the image\n",
    "cv2.imshow(\"window\", img)\n",
    "\n",
    "# Lets create the waitkey so that the image stays\n",
    "cv2.waitKey(0)"
   ]
  },
  {
   "cell_type": "markdown",
   "id": "d752a6f0",
   "metadata": {},
   "source": [
    "### Detecting Face and Facial Landmarks for multiple faces"
   ]
  },
  {
   "cell_type": "code",
   "execution_count": 10,
   "id": "e88a8169",
   "metadata": {},
   "outputs": [
    {
     "name": "stdout",
     "output_type": "stream",
     "text": [
      "[{'box': [167, 46, 29, 38], 'confidence': 0.9993299245834351, 'keypoints': {'left_eye': (177, 59), 'right_eye': (191, 59), 'nose': (186, 65), 'mouth_left': (180, 75), 'mouth_right': (190, 75)}}, {'box': [94, 32, 29, 34], 'confidence': 0.992533802986145, 'keypoints': {'left_eye': (101, 45), 'right_eye': (114, 44), 'nose': (106, 53), 'mouth_left': (101, 58), 'mouth_right': (114, 58)}}]\n"
     ]
    },
    {
     "data": {
      "text/plain": [
       "-1"
      ]
     },
     "execution_count": 10,
     "metadata": {},
     "output_type": "execute_result"
    }
   ],
   "source": [
    "# Lets import the MTCNN library\n",
    "from mtcnn import MTCNN\n",
    "\n",
    "# Lets import OpenCV\n",
    "import cv2\n",
    "\n",
    "# Lets initialize the MTCNN object\n",
    "detector = MTCNN()\n",
    "\n",
    "# Lets read an image using OpenCV\n",
    "img = cv2.imread(\"image_examples/ind4.jpg\")\n",
    "\n",
    "# Lets detect face using MTCNN\n",
    "output = detector.detect_faces(img)\n",
    "\n",
    "# Lets see the output\n",
    "print(output)\n",
    "\n",
    "# Lets run a loop for detecting multiple faces and facial landmarks in an image\n",
    "for i in output:\n",
    "    \n",
    "    # Lets extract the first element of the dictionary\n",
    "    x,y,w,h = i[\"box\"]\n",
    "\n",
    "    # Lets detect the facial landmarks\n",
    "    left_eyeX,left_eyeY = i['keypoints']['left_eye']\n",
    "    right_eyeX,right_eyeY = i['keypoints']['right_eye']\n",
    "    noseX,noseY = i['keypoints']['nose']\n",
    "    mouth_leftX,mouth_leftY = i['keypoints']['mouth_left']\n",
    "    mouth_rightX,mouth_rightY = i['keypoints']['mouth_right']\n",
    "\n",
    "    cv2.circle(img, center = (left_eyeX,left_eyeY), color = (0,255,0), thickness = 1, radius = 2)\n",
    "    cv2.circle(img, center = (right_eyeX,right_eyeY), color = (0,255,0), thickness = 1, radius = 2)\n",
    "    cv2.circle(img, center = (noseX,noseY), color = (0,255,0), thickness = 1, radius = 2)\n",
    "    cv2.circle(img, center = (mouth_leftX,mouth_leftY), color = (0,255,0), thickness = 1, radius = 2)\n",
    "    cv2.circle(img, center = (mouth_rightX,mouth_rightY), color = (0,255,0), thickness = 1, radius = 2)\n",
    "\n",
    "    # Lets make a rectangle to detect the face\n",
    "    cv2.rectangle(img, pt1 = (x,y), pt2 = (x+w,y+h), color = (0,0,255), thickness = 3)\n",
    "\n",
    "# Lets show the image\n",
    "cv2.imshow(\"window\", img)\n",
    "\n",
    "# Lets create the waitkey so that the image stays\n",
    "cv2.waitKey(0)"
   ]
  }
 ],
 "metadata": {
  "kernelspec": {
   "display_name": "Python 3 (ipykernel)",
   "language": "python",
   "name": "python3"
  },
  "language_info": {
   "codemirror_mode": {
    "name": "ipython",
    "version": 3
   },
   "file_extension": ".py",
   "mimetype": "text/x-python",
   "name": "python",
   "nbconvert_exporter": "python",
   "pygments_lexer": "ipython3",
   "version": "3.7.11"
  }
 },
 "nbformat": 4,
 "nbformat_minor": 5
}
